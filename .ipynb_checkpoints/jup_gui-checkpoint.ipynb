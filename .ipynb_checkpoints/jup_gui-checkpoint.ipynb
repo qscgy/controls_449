{
 "cells": [
  {
   "cell_type": "code",
   "execution_count": 12,
   "metadata": {},
   "outputs": [
    {
     "data": {
      "application/vnd.jupyter.widget-view+json": {
       "model_id": "391a1584faf948049f8aeacf8a62390f",
       "version_major": 2,
       "version_minor": 0
      },
      "text/plain": [
       "Button(description='Click pls', style=ButtonStyle())"
      ]
     },
     "metadata": {},
     "output_type": "display_data"
    },
    {
     "name": "stdout",
     "output_type": "stream",
     "text": [
      "Button clicked.\n",
      "Button clicked.\n",
      "Button clicked.\n",
      "Button clicked.\n"
     ]
    }
   ],
   "source": [
    "%matplotlib notebook\n",
    "import warnings\n",
    "from ipywidgets import  interact, interactive, interact_manual, fixed\n",
    "from __future__ import print_function\n",
    "import ipywidgets as widgets\n",
    "from IPython.display import display\n",
    "from main import simulate\n",
    "\n",
    "warnings.filterwarnings('ignore')\n",
    "# simulate(False)\n",
    "button = widgets.Button(description='Click pls')\n",
    "display(button)\n",
    "\n",
    "def on_clicked(b):\n",
    "    print('Button clicked.')\n",
    "    \n",
    "button.on_click(on_clicked)"
   ]
  },
  {
   "cell_type": "code",
   "execution_count": null,
   "metadata": {},
   "outputs": [],
   "source": []
  }
 ],
 "metadata": {
  "kernelspec": {
   "display_name": "Python 3",
   "language": "python",
   "name": "python3"
  },
  "language_info": {
   "codemirror_mode": {
    "name": "ipython",
    "version": 3
   },
   "file_extension": ".py",
   "mimetype": "text/x-python",
   "name": "python",
   "nbconvert_exporter": "python",
   "pygments_lexer": "ipython3",
   "version": "3.5.3"
  }
 },
 "nbformat": 4,
 "nbformat_minor": 1
}
